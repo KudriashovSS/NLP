{
  "nbformat": 4,
  "nbformat_minor": 0,
  "metadata": {
    "anaconda-cloud": {},
    "kernelspec": {
      "display_name": "Python 3",
      "language": "python",
      "name": "python3"
    },
    "language_info": {
      "codemirror_mode": {
        "name": "ipython",
        "version": 3
      },
      "file_extension": ".py",
      "mimetype": "text/x-python",
      "name": "python",
      "nbconvert_exporter": "python",
      "pygments_lexer": "ipython3",
      "version": "3.7.7"
    },
    "colab": {
      "name": "Lab01_Poetry_generation.ipynb",
      "provenance": []
    }
  },
  "cells": [
    {
      "cell_type": "markdown",
      "metadata": {
        "id": "4csSDQDWZmTF"
      },
      "source": [
        "## Lab 01. Poetry generation\n",
        "\n",
        "Let's try to generate some poetry using RNNs. \n",
        "\n",
        "You have several choices here: \n",
        "\n",
        "* The Shakespeare sonnets, file `sonnets.txt` available in the notebook directory.\n",
        "\n",
        "* Роман в стихах \"Евгений Онегин\" Александра Сергеевича Пушкина. В предобработанном виде доступен по [ссылке](https://github.com/attatrol/data_sources/blob/master/onegin.txt).\n",
        "\n",
        "* Some other text source, if it will be approved by the course staff.\n",
        "\n",
        "Text generation can be designed in several steps:\n",
        "    \n",
        "1. Data loading.\n",
        "2. Dictionary generation.\n",
        "3. Data preprocessing.\n",
        "4. Model (neural network) training.\n",
        "5. Text generation (model evaluation).\n"
      ]
    },
    {
      "cell_type": "markdown",
      "metadata": {
        "id": "vSyF1E76ZmTK"
      },
      "source": [
        "### Data loading: Shakespeare"
      ]
    },
    {
      "cell_type": "markdown",
      "metadata": {
        "id": "9iBeN8MHZmTK"
      },
      "source": [
        "Shakespeare sonnets are awailable at this [link](http://www.gutenberg.org/ebooks/1041?msg=welcome_stranger). In addition, they are stored in the same directory as this notebook (`sonnetes.txt`). Simple preprocessing is already done for you in the next cell: all technical info is dropped."
      ]
    },
    {
      "cell_type": "code",
      "metadata": {
        "collapsed": true,
        "id": "JUzr2xJdZmTM"
      },
      "source": [
        "if not os.path.exists('sonnets.txt'):\n",
        "    !wget https://raw.githubusercontent.com/girafe-ai/ml-mipt/master/homeworks_basic/Lab2_DL/sonnets.txt\n",
        "\n",
        "with open('sonnets.txt', 'r') as iofile:\n",
        "    text = iofile.readlines()\n",
        "    \n",
        "TEXT_START = 45\n",
        "TEXT_END = -368\n",
        "text = text[TEXT_START : TEXT_END]\n",
        "assert len(text) == 2616"
      ],
      "execution_count": 3,
      "outputs": []
    },
    {
      "cell_type": "markdown",
      "metadata": {
        "id": "zFJatsf0ZmTP"
      },
      "source": [
        "In opposite to the in-class practice, this time we want to predict complex text. Let's reduce the complexity of the task and lowercase all the symbols.\n",
        "\n",
        "Now variable `text` is a list of strings. Join all the strings into one and lowercase it."
      ]
    },
    {
      "cell_type": "code",
      "metadata": {
        "colab": {
          "base_uri": "https://localhost:8080/"
        },
        "id": "HwnLch3rZmTQ",
        "outputId": "958d2c5e-3ae8-42cd-f10e-140163ad1f9a"
      },
      "source": [
        "# Join all the strings into one and lowercase it\n",
        "# Put result into variable text.\n",
        "\n",
        "# Your great code here\n",
        "old_text = text\n",
        "text = ''.join(old_text).lower()\n",
        "\n",
        "assert len(text) == 100225, 'Are you sure you have concatenated all the strings?'\n",
        "assert not any([x in set(text) for x in string.ascii_uppercase]), 'Uppercase letters are present'\n",
        "print('OK!')"
      ],
      "execution_count": 5,
      "outputs": [
        {
          "output_type": "stream",
          "text": [
            "OK!\n"
          ],
          "name": "stdout"
        }
      ]
    },
    {
      "cell_type": "markdown",
      "metadata": {
        "id": "P6D9ahjTZmTU"
      },
      "source": [
        "Put all the characters, that you've seen in the text, into variable `tokens`."
      ]
    },
    {
      "cell_type": "code",
      "metadata": {
        "id": "mmPGZJGbZmTV"
      },
      "source": [
        "tokens = sorted(set(text))\n",
        "num_tokens = len(tokens)"
      ],
      "execution_count": 6,
      "outputs": []
    },
    {
      "cell_type": "markdown",
      "metadata": {
        "id": "hPVsOLP3ZmTV"
      },
      "source": [
        "Create dictionary `token_to_idx = {<char>: <index>}` and dictionary `idx_to_token = {<index>: <char>}`"
      ]
    },
    {
      "cell_type": "code",
      "metadata": {
        "collapsed": true,
        "id": "v19IYCB7ZmTW"
      },
      "source": [
        "# dict <index>:<char>\n",
        "# Your great code here\n",
        "token_to_idx = {key:i for i, key in enumerate(tokens)}\n",
        "# dict <char>:<index>\n",
        "# Your great code here\n",
        "idx_to_token = {i:key for key, i in token_to_idx.items()}"
      ],
      "execution_count": 7,
      "outputs": []
    },
    {
      "cell_type": "markdown",
      "metadata": {
        "id": "l8l2U37JZmTX"
      },
      "source": [
        "### Building the model"
      ]
    },
    {
      "cell_type": "markdown",
      "metadata": {
        "id": "4pyiKBFsZmTY"
      },
      "source": [
        "Now we want to build and train recurrent neural net which would be able to something similar to Shakespeare's poetry.\n",
        "\n",
        "Let's use vanilla RNN, similar to the one created during the lesson."
      ]
    },
    {
      "cell_type": "code",
      "metadata": {
        "id": "R94T0CYld4fM"
      },
      "source": [
        "char_rnn = CharRNNCell()\n",
        "criterion = nn.NLLLoss()"
      ],
      "execution_count": 14,
      "outputs": []
    },
    {
      "cell_type": "code",
      "metadata": {
        "id": "_k87VWx2d7rn"
      },
      "source": [
        "batch_ix = to_matrix([text[:50], text[100:200]])\n",
        "batch_ix = torch.tensor(batch_ix, dtype=torch.int64)\n",
        "logp_seq = rnn_loop(char_rnn, batch_ix)\n",
        "assert torch.max(logp_seq).data.numpy() <= 0\n",
        "assert tuple(logp_seq.size()) ==  batch_ix.shape + (num_tokens,)"
      ],
      "execution_count": 15,
      "outputs": []
    },
    {
      "cell_type": "code",
      "metadata": {
        "colab": {
          "base_uri": "https://localhost:8080/"
        },
        "id": "Nn1Sv-WQeK3u",
        "outputId": "eea71b87-dc09-43ae-f0d5-2d57fb29a91e"
      },
      "source": [
        "predictions_logp = logp_seq[:, :-1]\n",
        "actual_next_tokens = batch_ix[:, 1:]\n",
        "\n",
        "loss = criterion(predictions_logp.contiguous().view(-1, num_tokens), actual_next_tokens.contiguous().view(-1))\n",
        "loss.backward()\n",
        "\n",
        "for w in char_rnn.parameters():\n",
        "    assert w.grad is not None and torch.max(torch.abs(w.grad)).data.numpy() != 0, \\\n",
        "        \"Loss is not differentiable w.r.t. a weight with shape %s. Check forward method.\" % (w.size(),)\n",
        "\n",
        "loss"
      ],
      "execution_count": 16,
      "outputs": [
        {
          "output_type": "execute_result",
          "data": {
            "text/plain": [
              "tensor(3.7334, grad_fn=<NllLossBackward>)"
            ]
          },
          "metadata": {
            "tags": []
          },
          "execution_count": 16
        }
      ]
    },
    {
      "cell_type": "code",
      "metadata": {
        "colab": {
          "base_uri": "https://localhost:8080/"
        },
        "id": "-38r0NkVeO48",
        "outputId": "3003c2c8-8794-4ae6-c7f5-d7a4407410a2"
      },
      "source": [
        "predictions_logp.shape"
      ],
      "execution_count": 17,
      "outputs": [
        {
          "output_type": "execute_result",
          "data": {
            "text/plain": [
              "torch.Size([2, 99, 38])"
            ]
          },
          "metadata": {
            "tags": []
          },
          "execution_count": 17
        }
      ]
    },
    {
      "cell_type": "code",
      "metadata": {
        "colab": {
          "base_uri": "https://localhost:8080/"
        },
        "id": "Mkzgsxe5eTGl",
        "outputId": "68dc7b1e-4a5e-48ed-fbb0-03ec71a50e17"
      },
      "source": [
        "actual_next_tokens.shape"
      ],
      "execution_count": 18,
      "outputs": [
        {
          "output_type": "execute_result",
          "data": {
            "text/plain": [
              "torch.Size([2, 99])"
            ]
          },
          "metadata": {
            "tags": []
          },
          "execution_count": 18
        }
      ]
    },
    {
      "cell_type": "code",
      "metadata": {
        "id": "ZviQehUZeW2Z"
      },
      "source": [
        "from IPython.display import clear_output\n",
        "import matplotlib.pyplot as plt\n",
        "from random import sample\n",
        "\n",
        "char_rnn = CharRNNCell()\n",
        "criterion = nn.NLLLoss()\n",
        "opt = torch.optim.Adam(char_rnn.parameters())\n",
        "history = []"
      ],
      "execution_count": 19,
      "outputs": []
    },
    {
      "cell_type": "code",
      "metadata": {
        "colab": {
          "base_uri": "https://localhost:8080/",
          "height": 265
        },
        "id": "nySO2FFpea1e",
        "outputId": "86da3580-d728-4343-cd9d-5fb1047e8852"
      },
      "source": [
        "MAX_LENGTH = 50\n",
        "\n",
        "for i in range(1000):\n",
        "    batch_ix = to_matrix(sample_texts(20), max_len=MAX_LENGTH)\n",
        "    batch_ix = torch.tensor(batch_ix, dtype=torch.int64)\n",
        "    \n",
        "    logp_seq = rnn_loop(char_rnn, batch_ix)\n",
        "    \n",
        "    # compute loss\n",
        "    predictions_logp = logp_seq[:, :-1]\n",
        "    actual_next_tokens = batch_ix[:, 1:]\n",
        "\n",
        "    loss = criterion(\n",
        "          predictions_logp.contiguous().view(-1, num_tokens), \n",
        "          actual_next_tokens.contiguous().view(-1))\n",
        "    \n",
        "    # train with backprop\n",
        "    loss.backward()\n",
        "    opt.step()\n",
        "    opt.zero_grad()\n",
        "\n",
        "    \n",
        "    history.append(loss.data.numpy())\n",
        "    if (i+1)%100==0:\n",
        "        clear_output(True)\n",
        "        plt.plot(history,label='loss')\n",
        "        plt.legend()\n",
        "        plt.show()\n",
        "\n",
        "assert np.mean(history[:10]) > np.mean(history[-10:]), \"RNN didn't converge.\""
      ],
      "execution_count": 20,
      "outputs": [
        {
          "output_type": "display_data",
          "data": {
            "image/png": "[encoded data removed]",
            "text/plain": [
              "<Figure size 432x288 with 1 Axes>"
            ]
          },
          "metadata": {
            "tags": [],
            "needs_background": "light"
          }
        }
      ]
    },
    {
      "cell_type": "markdown",
      "metadata": {
        "id": "K2rTcwJeZmTZ"
      },
      "source": [
        "Plot the loss function (axis X: number of epochs, axis Y: loss function)."
      ]
    },
    {
      "cell_type": "code",
      "metadata": {
        "colab": {
          "base_uri": "https://localhost:8080/",
          "height": 35
        },
        "id": "0EklxXRXZmTd",
        "outputId": "9a889f26-ec89-4c98-a516-c5a033fc701c"
      },
      "source": [
        "generate_sample(char_rnn, seed_phrase=' my', max_length=50, temperature=0.8)"
      ],
      "execution_count": 22,
      "outputs": [
        {
          "output_type": "execute_result",
          "data": {
            "application/vnd.google.colaboratory.intrinsic+json": {
              "type": "string"
            },
            "text/plain": [
              "' my rad?\\n                                         '"
            ]
          },
          "metadata": {
            "tags": []
          },
          "execution_count": 22
        }
      ]
    },
    {
      "cell_type": "code",
      "metadata": {
        "colab": {
          "base_uri": "https://localhost:8080/"
        },
        "id": "TjtRV2vOfIWf",
        "outputId": "8420f1db-8ff7-423f-f512-d2f3c4539469"
      },
      "source": [
        "for i in range(10):\n",
        "  print(generate_sample(char_rnn, seed_phrase=' ', max_length=50, temperature=0.5))"
      ],
      "execution_count": 23,
      "outputs": [
        {
          "output_type": "stream",
          "text": [
            " buth the in the dese deast the on thou stor sun m\n",
            " the pand in with the fortere and the me weat thy \n",
            " thee my mante the deat poth enger the shath the m\n",
            " the in the shours but the thin thet that so love,\n",
            " thy bere,\n",
            "                                       \n",
            " the hell the that that sing and thy cave thee mor\n",
            " me sear me wite to that i sef thy stand make in l\n",
            " manter in thou freming shean,\n",
            "                   \n",
            " fane thou dove suve thin mich and the in thou lic\n",
            " that your thy weart,\n",
            "                            \n"
          ],
          "name": "stdout"
        }
      ]
    },
    {
      "cell_type": "markdown",
      "metadata": {
        "id": "lBtheVLRZmTf"
      },
      "source": [
        "### More poetic model\n",
        "\n",
        "Let's use LSTM instead of vanilla RNN and compare the results."
      ]
    },
    {
      "cell_type": "code",
      "metadata": {
        "id": "hxq7rT_bfQPh"
      },
      "source": [
        "lstm_model = LSMTModel(vocab_size=38, emb_size=16)\n",
        "\n",
        "batch_ix = torch.tensor(to_matrix(sample_text_for_lstm(5)), dtype = torch.long)\n",
        "\n",
        "logp_seq = lstm_loop(lstm_model, batch_ix)\n",
        "\n",
        "predictions = logp_seq[:, :-1]\n",
        "actual_next_tokens = batch_ix[:, 1:]\n",
        "\n",
        "loss = criterion(predictions.contiguous().view(-1, num_tokens), actual_next_tokens.contiguous().view(-1))\n",
        "loss.backward()"
      ],
      "execution_count": 27,
      "outputs": []
    },
    {
      "cell_type": "code",
      "metadata": {
        "id": "VDw6F5LgfUnL"
      },
      "source": [
        "lstm_model = LSMTModel(vocab_size=38, emb_size=16)\n",
        "criterion = nn.NLLLoss()\n",
        "lstm_opt = torch.optim.Adam(lstm_model.parameters())\n",
        "lstm_history = []"
      ],
      "execution_count": 28,
      "outputs": []
    },
    {
      "cell_type": "code",
      "metadata": {
        "colab": {
          "base_uri": "https://localhost:8080/",
          "height": 265
        },
        "id": "SUpY_xe1fYYg",
        "outputId": "c19a2a21-31a1-4c53-87dd-3c98e1ba0bb0"
      },
      "source": [
        "h_prev, c_prev = lstm_model.initial_state()\n",
        "\n",
        "for i in range(1000):\n",
        "    batch_ix = torch.tensor(to_matrix(sample_text_for_lstm(20, num_rows=2)), dtype = torch.long)\n",
        "    \n",
        "    logp_seq = lstm_loop(lstm_model, batch_ix)\n",
        "    \n",
        "    # compute loss\n",
        "    predictions_logp = logp_seq[:, :-1]\n",
        "    actual_next_tokens = batch_ix[:, 1:]\n",
        "\n",
        "    loss = criterion(\n",
        "          predictions_logp.contiguous().view(-1, num_tokens), \n",
        "          actual_next_tokens.contiguous().view(-1))\n",
        "    \n",
        "    # train with backprop\n",
        "    loss.backward()\n",
        "    lstm_opt.step()\n",
        "    lstm_opt.zero_grad()\n",
        "\n",
        "    \n",
        "    lstm_history.append(loss.data.numpy())\n",
        "    if (i+1)%100==0:\n",
        "        clear_output(True)\n",
        "        plt.plot(lstm_history,label='loss')\n",
        "        plt.legend()\n",
        "        plt.show()\n",
        "\n",
        "assert np.mean(lstm_history[:10]) > np.mean(lstm_history[-10:]), \"RNN didn't converge.\""
      ],
      "execution_count": 29,
      "outputs": [
        {
          "output_type": "display_data",
          "data": {
            "image/png": "[encoded data removed]",
            "text/plain": [
              "<Figure size 432x288 with 1 Axes>"
            ]
          },
          "metadata": {
            "tags": [],
            "needs_background": "light"
          }
        }
      ]
    },
    {
      "cell_type": "markdown",
      "metadata": {
        "id": "1LwN2HxFZmTh"
      },
      "source": [
        "Plot the loss function of the number of epochs. Does the final loss become better?"
      ]
    },
    {
      "cell_type": "markdown",
      "metadata": {
        "id": "jbmyP6eBhsU4"
      },
      "source": [
        "LSTM trains not so good. RNN showed much better results"
      ]
    },
    {
      "cell_type": "markdown",
      "metadata": {
        "id": "BbjcuGspZmTi"
      },
      "source": [
        "Generate text using the trained net with different `temperature` parameter: `[0.1, 0.2, 0.5, 1.0, 2.0]`.\n",
        "\n",
        "Evaluate the results visually, try to interpret them."
      ]
    },
    {
      "cell_type": "code",
      "metadata": {
        "colab": {
          "base_uri": "https://localhost:8080/"
        },
        "id": "YJYPouhKfnZE",
        "outputId": "df91aee5-62db-4789-e488-f356806604b4"
      },
      "source": [
        "for t in [0.1, 0.2, 0.5, 1.0, 2.0]:\n",
        "  print('t = ', t)\n",
        "  for _ in range(4):\n",
        "    print(generate_sample_lstm(lstm_model, 'sometimes', temperature=t, max_length=50))\n",
        "  print('--------------------------------')"
      ],
      "execution_count": 36,
      "outputs": [
        {
          "output_type": "stream",
          "text": [
            "t =  0.1\n",
            "sometimes the the the seare the seare the seart th\n",
            "sometimes the seare the the seart the seart the se\n",
            "sometimes the seare the seare the seare the the se\n",
            "sometimes the seare the seare the seare the seart \n",
            "--------------------------------\n",
            "t =  0.2\n",
            "sometimes the seare the the seart the core the the\n",
            "sometimes the seare the seart the the be and the s\n",
            "sometimes the seare the the the sure the seare the\n",
            "sometimes the the the wing the shere the the the s\n",
            "--------------------------------\n",
            "t =  0.5\n",
            "sometimes deet i ant o be thou the gion train the \n",
            "sometimess wothes of the the thor mave to love the\n",
            "sometimes not of sull the seed and the me of love \n",
            "sometimes of the fart in saith the dill for preces\n",
            "--------------------------------\n",
            "t =  1.0\n",
            "sometimes ouirt the hame imtherg you he ald be the\n",
            "sometimes if or weet the brese:\n",
            ",ouis wy wiv;\n",
            "    \n",
            "sometimeswurowe due not the teev ais her of gorena\n",
            "sometimes forsesines not my theal, cowy madn i hou\n",
            "--------------------------------\n",
            "t =  2.0\n",
            "sometimes?\n",
            "jfiph i him's narnkonn cane':\n",
            "shempqron\n",
            "sometimes\n",
            "my biv.\n",
            "ajforhy\n",
            "as;k !ege fteers vakfa\n",
            "o\n",
            "sometimesninn juq-ugemt he.\n",
            "ajnhete::n',nc;oo'z!ie\n",
            "sometimesmpquts poorise ke?p\n",
            "forni whribn ao fer't\n",
            "--------------------------------\n"
          ],
          "name": "stdout"
        }
      ]
    },
    {
      "cell_type": "markdown",
      "metadata": {
        "id": "6vyLQK-ch9k3"
      },
      "source": [
        "Quality of LSTM predictiions seems to be  depends a lot on start phrase. Overall LSTM seems to be more connected. And big dependency on temperature is observed."
      ]
    },
    {
      "cell_type": "markdown",
      "metadata": {
        "id": "TmCncvyqZmTj"
      },
      "source": [
        "### Saving and loading models"
      ]
    },
    {
      "cell_type": "markdown",
      "metadata": {
        "id": "B9KRCvZLZmTj"
      },
      "source": [
        "Save the model to the disk, then load it and generate text. Examples are available [here](https://pytorch.org/tutorials/beginner/saving_loading_models.html])."
      ]
    },
    {
      "cell_type": "code",
      "metadata": {
        "colab": {
          "base_uri": "https://localhost:8080/",
          "height": 35
        },
        "id": "L-Lb-2gbfwxh",
        "outputId": "d560e3ac-f732-451d-b825-ad6abf92b3b6"
      },
      "source": [
        "lstm_path = 'lstm_model.t'\n",
        "save_model(lstm_model, lstm_path)\n",
        "lstm_loaded_model = load_model(LSMTModel, lstm_path)\n",
        "generate_sample_lstm(lstm_loaded_model, ' ')"
      ],
      "execution_count": 38,
      "outputs": [
        {
          "output_type": "execute_result",
          "data": {
            "application/vnd.google.colaboratory.intrinsic+json": {
              "type": "string"
            },
            "text/plain": [
              "\" ovfartl hezer'd,\\nfirmin, i fa thy bakeett?\\n      \""
            ]
          },
          "metadata": {
            "tags": []
          },
          "execution_count": 38
        }
      ]
    },
    {
      "cell_type": "code",
      "metadata": {
        "colab": {
          "base_uri": "https://localhost:8080/",
          "height": 35
        },
        "id": "ryBkOx-zfxKr",
        "outputId": "be7d8355-07bf-4e55-fc3a-08aa16a78fbf"
      },
      "source": [
        "rnn_path = 'rnn_model.t'\n",
        "save_model(char_rnn, rnn_path)\n",
        "rnn_loaded_model = load_model(CharRNNCell, rnn_path)\n",
        "generate_sample(rnn_loaded_model, ' ', temperature=0.2)"
      ],
      "execution_count": 39,
      "outputs": [
        {
          "output_type": "execute_result",
          "data": {
            "application/vnd.google.colaboratory.intrinsic+json": {
              "type": "string"
            },
            "text/plain": [
              "' the stath the sear the be the the my sor the the '"
            ]
          },
          "metadata": {
            "tags": []
          },
          "execution_count": 39
        }
      ]
    },
    {
      "cell_type": "markdown",
      "metadata": {
        "id": "vyQBCs9AZmTk"
      },
      "source": [
        "### References\n",
        "1. <a href='http://karpathy.github.io/2015/05/21/rnn-effectiveness/'> Andrew Karpathy blog post about RNN. </a> \n",
        "There are several examples of genration: Shakespeare texts, Latex formulas, Linux Sourse Code and children names.\n",
        "2. <a href='https://github.com/karpathy/char-rnn'> Repo with char-rnn code </a>\n",
        "3. Cool repo with PyTorch examples: [link](https://github.com/spro/practical-pytorch`)"
      ]
    }
  ]
}